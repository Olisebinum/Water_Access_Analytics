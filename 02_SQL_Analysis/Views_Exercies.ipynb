{
 "cells": [
  {
   "cell_type": "markdown",
   "id": "db22d524-58c1-48f2-8557-53ef70253651",
   "metadata": {},
   "source": [
    "# Creating views 1\n",
    "\n",
    "In this exercise, we learn how to create different types of views and how to drop views.\n",
    "\n",
    "Ensure that you have downloaded the database file Chinook.db.\n",
    "\n",
    "# Learning objectives\n",
    "By the end of this train, you should be able to:\n",
    "\n",
    "Create LOOKUP, JOIN, and AGGREGATING views.\n",
    "Drop a view.\n"
   ]
  },
  {
   "cell_type": "code",
   "execution_count": 1,
   "id": "553ae65c-9874-4d77-9a3d-9243348856da",
   "metadata": {},
   "outputs": [],
   "source": [
    "# Load and activate the SQL extension to allow us to execute SQL in a Jupyter notebook.\n",
    "%load_ext sql"
   ]
  },
  {
   "cell_type": "code",
   "execution_count": 2,
   "id": "0faef23e-6f35-48ab-9b60-17eb9431f3a9",
   "metadata": {},
   "outputs": [
    {
     "data": {
      "text/html": [
       "<span style=\"None\">Connecting to &#x27;sqlite:///chinook.db&#x27;</span>"
      ],
      "text/plain": [
       "Connecting to 'sqlite:///chinook.db'"
      ]
     },
     "metadata": {},
     "output_type": "display_data"
    }
   ],
   "source": [
    "# Load the Chinook database stored in your local machine. \n",
    "# Make sure the file is saved in the same folder as this notebook.\n",
    "%sql sqlite:///chinook.db"
   ]
  },
  {
   "cell_type": "markdown",
   "id": "dfb45568-a97b-4ace-89f4-b4218855884a",
   "metadata": {},
   "source": [
    "## Exercise\n",
    "\n",
    "Run the necessary queries that will provide us with the following information. \n",
    "    \n",
    "Compare your queries with the solutions at the end of this notebook.\n",
    "\n",
    "## Exercise 1\n",
    "\n",
    "Create a LOOKUP view of the surname, first name, title, and country of each employee called Employee_View."
   ]
  },
  {
   "cell_type": "code",
   "execution_count": 4,
   "id": "6f1a6d14-bde5-49bb-975c-affdb3b89ce0",
   "metadata": {},
   "outputs": [
    {
     "data": {
      "text/html": [
       "<span style=\"None\">Running query in &#x27;sqlite:///chinook.db&#x27;</span>"
      ],
      "text/plain": [
       "Running query in 'sqlite:///chinook.db'"
      ]
     },
     "metadata": {},
     "output_type": "display_data"
    },
    {
     "data": {
      "text/html": [
       "<table>\n",
       "    <thead>\n",
       "        <tr>\n",
       "        </tr>\n",
       "    </thead>\n",
       "    <tbody>\n",
       "    </tbody>\n",
       "</table>"
      ],
      "text/plain": [
       "++\n",
       "||\n",
       "++\n",
       "++"
      ]
     },
     "execution_count": 4,
     "metadata": {},
     "output_type": "execute_result"
    }
   ],
   "source": [
    "%%sql \n",
    "\n",
    "CREATE VIEW Employee_View \n",
    "AS\n",
    "    \n",
    "SELECT \n",
    "    FirstName,\n",
    "    LastName,\n",
    "    Title,\n",
    "    Country\n",
    "FROM\n",
    "    employees; "
   ]
  },
  {
   "cell_type": "markdown",
   "id": "b2957e5c-aa87-4015-99f7-822708bf4f87",
   "metadata": {},
   "source": [
    "## Exercise 2\n",
    "Query the Employee_View view to get a view of the sales team.\n",
    "\n",
    "Use the wildcard operators and the LIKE query to filter all the employees in the specified view."
   ]
  },
  {
   "cell_type": "code",
   "execution_count": 10,
   "id": "182bb708-b8ad-4480-ba64-fb3d35226097",
   "metadata": {},
   "outputs": [
    {
     "data": {
      "text/html": [
       "<span style=\"None\">Running query in &#x27;sqlite:///chinook.db&#x27;</span>"
      ],
      "text/plain": [
       "Running query in 'sqlite:///chinook.db'"
      ]
     },
     "metadata": {},
     "output_type": "display_data"
    },
    {
     "data": {
      "text/html": [
       "<table>\n",
       "    <thead>\n",
       "        <tr>\n",
       "            <th>FirstName</th>\n",
       "            <th>LastName</th>\n",
       "            <th>Title</th>\n",
       "            <th>Country</th>\n",
       "        </tr>\n",
       "    </thead>\n",
       "    <tbody>\n",
       "        <tr>\n",
       "            <td>Nancy</td>\n",
       "            <td>Edwards</td>\n",
       "            <td>Sales Manager</td>\n",
       "            <td>Canada</td>\n",
       "        </tr>\n",
       "        <tr>\n",
       "            <td>Jane</td>\n",
       "            <td>Peacock</td>\n",
       "            <td>Sales Support Agent</td>\n",
       "            <td>Canada</td>\n",
       "        </tr>\n",
       "        <tr>\n",
       "            <td>Margaret</td>\n",
       "            <td>Park</td>\n",
       "            <td>Sales Support Agent</td>\n",
       "            <td>Canada</td>\n",
       "        </tr>\n",
       "        <tr>\n",
       "            <td>Steve</td>\n",
       "            <td>Johnson</td>\n",
       "            <td>Sales Support Agent</td>\n",
       "            <td>Canada</td>\n",
       "        </tr>\n",
       "    </tbody>\n",
       "</table>"
      ],
      "text/plain": [
       "+-----------+----------+---------------------+---------+\n",
       "| FirstName | LastName |        Title        | Country |\n",
       "+-----------+----------+---------------------+---------+\n",
       "|   Nancy   | Edwards  |    Sales Manager    |  Canada |\n",
       "|    Jane   | Peacock  | Sales Support Agent |  Canada |\n",
       "|  Margaret |   Park   | Sales Support Agent |  Canada |\n",
       "|   Steve   | Johnson  | Sales Support Agent |  Canada |\n",
       "+-----------+----------+---------------------+---------+"
      ]
     },
     "execution_count": 10,
     "metadata": {},
     "output_type": "execute_result"
    }
   ],
   "source": [
    "%%sql\n",
    "\n",
    "SELECT * \n",
    "    \n",
    "FROM\n",
    "    Employee_View\n",
    "WHERE \n",
    "    Title LIKE '%Sales%'; "
   ]
  },
  {
   "cell_type": "markdown",
   "id": "c0f43dee-9769-4c10-af03-e340f9f4ddd4",
   "metadata": {},
   "source": [
    "## Exercise 3\n",
    "Create a JOIN view that will link up all the customers with the support staff assisting them, called Customer_Support_View. \n",
    "\n",
    "We want to view the following:\n",
    "\n",
    "First name of the customer\n",
    "\n",
    "Last name (surname) of the customer\n",
    "\n",
    "Country where the customer resides\n",
    "\n",
    "SupportRepId\n",
    "\n",
    "EmployeeId\n",
    "\n",
    "Last name of the employee\n",
    "\n",
    "First name of the employee\n",
    "\n",
    "Job title of the employee\n",
    "\n",
    "Country where the employee operated from"
   ]
  },
  {
   "cell_type": "code",
   "execution_count": 15,
   "id": "00e23071-bcb7-4386-938d-9ad81d7d73a8",
   "metadata": {},
   "outputs": [
    {
     "data": {
      "text/html": [
       "<span style=\"None\">Running query in &#x27;sqlite:///chinook.db&#x27;</span>"
      ],
      "text/plain": [
       "Running query in 'sqlite:///chinook.db'"
      ]
     },
     "metadata": {},
     "output_type": "display_data"
    },
    {
     "data": {
      "text/html": [
       "<table>\n",
       "    <thead>\n",
       "        <tr>\n",
       "        </tr>\n",
       "    </thead>\n",
       "    <tbody>\n",
       "    </tbody>\n",
       "</table>"
      ],
      "text/plain": [
       "++\n",
       "||\n",
       "++\n",
       "++"
      ]
     },
     "execution_count": 15,
     "metadata": {},
     "output_type": "execute_result"
    }
   ],
   "source": [
    "%%sql \n",
    "CREATE VIEW Customer_Support_View \n",
    "AS \n",
    "    \n",
    "SELECT \n",
    "    c.FirstName,\n",
    "    c.LastName,\n",
    "    c.Country,\n",
    "    c.SupportRepId,\n",
    "    e.EmployeeId,\n",
    "    e.LastName as Employee_firstName,\n",
    "    e.FirstName as Employee_lastName,\n",
    "    e.Title\n",
    "\n",
    "FROM \n",
    "    customers as c\n",
    "\n",
    "JOIN \n",
    "    employees as e\n",
    "\n",
    "ON \n",
    "    c.SupportRepId = e.EmployeeId ; \n"
   ]
  },
  {
   "cell_type": "markdown",
   "id": "839d06b0-d5f9-460c-b2dc-0206e66250c0",
   "metadata": {},
   "source": [
    "## Exercise 4\n",
    "Query the Customer_Support_View view to get a list of the names and surnames of the clients who were helped by an employee with the Employeeid '3'."
   ]
  },
  {
   "cell_type": "code",
   "execution_count": 17,
   "id": "3da61ec5-81a0-43af-9c34-3de0080efc76",
   "metadata": {},
   "outputs": [
    {
     "data": {
      "text/html": [
       "<span style=\"None\">Running query in &#x27;sqlite:///chinook.db&#x27;</span>"
      ],
      "text/plain": [
       "Running query in 'sqlite:///chinook.db'"
      ]
     },
     "metadata": {},
     "output_type": "display_data"
    },
    {
     "data": {
      "text/html": [
       "<table>\n",
       "    <thead>\n",
       "        <tr>\n",
       "            <th>FirstName</th>\n",
       "            <th>LastName</th>\n",
       "        </tr>\n",
       "    </thead>\n",
       "    <tbody>\n",
       "        <tr>\n",
       "            <td>Luís</td>\n",
       "            <td>Gonçalves</td>\n",
       "        </tr>\n",
       "        <tr>\n",
       "            <td>François</td>\n",
       "            <td>Tremblay</td>\n",
       "        </tr>\n",
       "        <tr>\n",
       "            <td>Roberto</td>\n",
       "            <td>Almeida</td>\n",
       "        </tr>\n",
       "        <tr>\n",
       "            <td>Jennifer</td>\n",
       "            <td>Peterson</td>\n",
       "        </tr>\n",
       "        <tr>\n",
       "            <td>Michelle</td>\n",
       "            <td>Brooks</td>\n",
       "        </tr>\n",
       "        <tr>\n",
       "            <td>Tim</td>\n",
       "            <td>Goyer</td>\n",
       "        </tr>\n",
       "        <tr>\n",
       "            <td>Frank</td>\n",
       "            <td>Ralston</td>\n",
       "        </tr>\n",
       "        <tr>\n",
       "            <td>Robert</td>\n",
       "            <td>Brown</td>\n",
       "        </tr>\n",
       "        <tr>\n",
       "            <td>Edward</td>\n",
       "            <td>Francis</td>\n",
       "        </tr>\n",
       "        <tr>\n",
       "            <td>Ellie</td>\n",
       "            <td>Sullivan</td>\n",
       "        </tr>\n",
       "    </tbody>\n",
       "</table>\n",
       "<span style=\"font-style:italic;text-align:center;\">Truncated to <a href=\"https://jupysql.ploomber.io/en/latest/api/configuration.html#displaylimit\">displaylimit</a> of 10.</span>"
      ],
      "text/plain": [
       "+-----------+-----------+\n",
       "| FirstName |  LastName |\n",
       "+-----------+-----------+\n",
       "|    Luís   | Gonçalves |\n",
       "|  François |  Tremblay |\n",
       "|  Roberto  |  Almeida  |\n",
       "|  Jennifer |  Peterson |\n",
       "|  Michelle |   Brooks  |\n",
       "|    Tim    |   Goyer   |\n",
       "|   Frank   |  Ralston  |\n",
       "|   Robert  |   Brown   |\n",
       "|   Edward  |  Francis  |\n",
       "|   Ellie   |  Sullivan |\n",
       "+-----------+-----------+\n",
       "Truncated to displaylimit of 10."
      ]
     },
     "execution_count": 17,
     "metadata": {},
     "output_type": "execute_result"
    }
   ],
   "source": [
    "%%sql \n",
    "\n",
    "SELECT \n",
    "    FirstName,\n",
    "    LastName\n",
    "\n",
    "FROM\n",
    "    Customer_Support_View\n",
    "WHERE\n",
    "    employeeId = 3 ; "
   ]
  },
  {
   "cell_type": "markdown",
   "id": "20f11998-d609-48fb-9deb-d949c94191a9",
   "metadata": {},
   "source": [
    "## Exercise 5\n",
    "Create an AGGREGATING view that counts the number of customers that are currently being serviced per country, called Customer_per_Country_View.\n",
    "\n",
    "We would like to see the country name and the number of customers in this view."
   ]
  },
  {
   "cell_type": "code",
   "execution_count": 20,
   "id": "44bf159b-a287-4c15-888f-0cebadb9ebd5",
   "metadata": {},
   "outputs": [
    {
     "data": {
      "text/html": [
       "<span style=\"None\">Running query in &#x27;sqlite:///chinook.db&#x27;</span>"
      ],
      "text/plain": [
       "Running query in 'sqlite:///chinook.db'"
      ]
     },
     "metadata": {},
     "output_type": "display_data"
    },
    {
     "data": {
      "text/html": [
       "<table>\n",
       "    <thead>\n",
       "        <tr>\n",
       "        </tr>\n",
       "    </thead>\n",
       "    <tbody>\n",
       "    </tbody>\n",
       "</table>"
      ],
      "text/plain": [
       "++\n",
       "||\n",
       "++\n",
       "++"
      ]
     },
     "execution_count": 20,
     "metadata": {},
     "output_type": "execute_result"
    }
   ],
   "source": [
    "%%sql\n",
    "CREATE VIEW Customer_Per_Country_View\n",
    "AS\n",
    "    \n",
    "SELECT \n",
    "    Country,\n",
    "    COUNT(CustomerId) as No_of_customers\n",
    "FROM \n",
    "    customers\n",
    "GROUP BY \n",
    "    Country ; "
   ]
  },
  {
   "cell_type": "markdown",
   "id": "551c18d4-b8bf-4a79-8710-bde51530790e",
   "metadata": {},
   "source": [
    "## Exercise 6\n",
    "Write a query that returns the country with the most customers from Customer_per_Country_View."
   ]
  },
  {
   "cell_type": "code",
   "execution_count": 22,
   "id": "0cd9aa27-03c1-4ed9-a00a-779aed57a6be",
   "metadata": {},
   "outputs": [
    {
     "data": {
      "text/html": [
       "<span style=\"None\">Running query in &#x27;sqlite:///chinook.db&#x27;</span>"
      ],
      "text/plain": [
       "Running query in 'sqlite:///chinook.db'"
      ]
     },
     "metadata": {},
     "output_type": "display_data"
    },
    {
     "data": {
      "text/html": [
       "<table>\n",
       "    <thead>\n",
       "        <tr>\n",
       "            <th>Country</th>\n",
       "            <th>MAX(no_of_customers)</th>\n",
       "        </tr>\n",
       "    </thead>\n",
       "    <tbody>\n",
       "        <tr>\n",
       "            <td>USA</td>\n",
       "            <td>13</td>\n",
       "        </tr>\n",
       "    </tbody>\n",
       "</table>"
      ],
      "text/plain": [
       "+---------+----------------------+\n",
       "| Country | MAX(no_of_customers) |\n",
       "+---------+----------------------+\n",
       "|   USA   |          13          |\n",
       "+---------+----------------------+"
      ]
     },
     "execution_count": 22,
     "metadata": {},
     "output_type": "execute_result"
    }
   ],
   "source": [
    "%%sql \n",
    "\n",
    "SELECT \n",
    "    Country,\n",
    "    MAX(no_of_customers)\n",
    "FROM \n",
    "    Customer_Per_Country_View; \n"
   ]
  },
  {
   "cell_type": "markdown",
   "id": "3268a98f-55c9-4018-8eb2-e29500e0a223",
   "metadata": {},
   "source": [
    "## Exercise 7\n",
    "Write a query that will delete the Employee_View view."
   ]
  },
  {
   "cell_type": "raw",
   "id": "ef903da5-2bee-41e7-acba-95f3aa1e05df",
   "metadata": {},
   "source": [
    "%%sql \n",
    "\n",
    "DROP VIEW Employee_View"
   ]
  },
  {
   "cell_type": "markdown",
   "id": "4a811e5d-b88c-4728-a447-2a0299924ca8",
   "metadata": {},
   "source": [
    "## Challenge question\n",
    "Write a query that returns the number of customers that each support employee services, along with the name of the employee. Call this view Support_Person_Stats.\n",
    "\n",
    "To do this, we will need to create a view, join the Customer and Employee tables, and use the COUNT and GROUP BY functions to aggregate the number of employees serviced by each employee."
   ]
  },
  {
   "cell_type": "code",
   "execution_count": 31,
   "id": "21414589-dc6f-4967-977b-d98200bc5a30",
   "metadata": {},
   "outputs": [
    {
     "data": {
      "text/html": [
       "<span style=\"None\">Running query in &#x27;sqlite:///chinook.db&#x27;</span>"
      ],
      "text/plain": [
       "Running query in 'sqlite:///chinook.db'"
      ]
     },
     "metadata": {},
     "output_type": "display_data"
    },
    {
     "data": {
      "text/html": [
       "<table>\n",
       "    <thead>\n",
       "        <tr>\n",
       "        </tr>\n",
       "    </thead>\n",
       "    <tbody>\n",
       "    </tbody>\n",
       "</table>"
      ],
      "text/plain": [
       "++\n",
       "||\n",
       "++\n",
       "++"
      ]
     },
     "execution_count": 31,
     "metadata": {},
     "output_type": "execute_result"
    }
   ],
   "source": [
    "%%sql\n",
    "\n",
    "CREATE VIEW Support_Person_Stats\n",
    "AS \n",
    "    \n",
    "SELECT \n",
    "    COUNT(c.SupportRepId) Count_of_Customers_Serviced , \n",
    "    e.EmployeeId, e.LastName\n",
    "    \n",
    "FROM \n",
    "    customers c\n",
    "INNER JOIN \n",
    "    employees e\n",
    "ON \n",
    "    c.SupportRepId = e.EmployeeId\n",
    "\n",
    "GROUP BY e.EmployeeId;"
   ]
  },
  {
   "cell_type": "code",
   "execution_count": null,
   "id": "7f1adddb-78ad-4f54-a865-67e2dfc94245",
   "metadata": {},
   "outputs": [],
   "source": [
    "\n",
    "\n"
   ]
  },
  {
   "cell_type": "code",
   "execution_count": null,
   "id": "68586cfa-ba83-439b-89be-9fd3ba61784b",
   "metadata": {},
   "outputs": [],
   "source": []
  }
 ],
 "metadata": {
  "kernelspec": {
   "display_name": "Python [conda env:SQL_root] *",
   "language": "python",
   "name": "conda-env-SQL_root-py"
  },
  "language_info": {
   "codemirror_mode": {
    "name": "ipython",
    "version": 3
   },
   "file_extension": ".py",
   "mimetype": "text/x-python",
   "name": "python",
   "nbconvert_exporter": "python",
   "pygments_lexer": "ipython3",
   "version": "3.12.9"
  }
 },
 "nbformat": 4,
 "nbformat_minor": 5
}
